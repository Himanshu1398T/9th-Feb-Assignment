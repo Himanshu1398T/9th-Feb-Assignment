{
 "cells": [
  {
   "cell_type": "markdown",
   "id": "d69e802c",
   "metadata": {},
   "source": [
    "### Q1. Create a vehicle class with an init method having instance variables as name_of_vehicle, max_speed and average_of_vehicle."
   ]
  },
  {
   "cell_type": "code",
   "execution_count": 1,
   "id": "0482d34c",
   "metadata": {},
   "outputs": [],
   "source": [
    "class Vehicle:\n",
    "    def __init__(self, name_of_vehicle, max_speed, average_of_vehicle):\n",
    "        self.name_of_vehicle = name_of_vehicle\n",
    "        self.max_speed = max_speed\n",
    "        self.average_of_vehicle = average_of_vehicle"
   ]
  },
  {
   "cell_type": "code",
   "execution_count": 2,
   "id": "93dd949a",
   "metadata": {},
   "outputs": [
    {
     "name": "stdout",
     "output_type": "stream",
     "text": [
      "Toyota Camry\n",
      "120\n",
      "25\n"
     ]
    }
   ],
   "source": [
    "car = Vehicle(\"Toyota Camry\", 120, 25)\n",
    "print(car.name_of_vehicle)      \n",
    "print(car.max_speed)                \n",
    "print(car.average_of_vehicle)      "
   ]
  },
  {
   "cell_type": "markdown",
   "id": "6c928741",
   "metadata": {},
   "source": [
    "### Q2. Create a child class car from the vehicle class created in Que 1, which will inherit the vehicle class. Create a method named seating_capacity which takes capacity as an argument and returns the name of the vehicle and its seating capacity."
   ]
  },
  {
   "cell_type": "code",
   "execution_count": 3,
   "id": "98e1d84f",
   "metadata": {},
   "outputs": [],
   "source": [
    "class Car(Vehicle):\n",
    "    def seating_capacity(self, capacity):\n",
    "        return f\"{self.name_of_vehicle} has a seating capacity of {capacity} people.\""
   ]
  },
  {
   "cell_type": "code",
   "execution_count": 4,
   "id": "9fab325b",
   "metadata": {},
   "outputs": [
    {
     "name": "stdout",
     "output_type": "stream",
     "text": [
      "Toyota Inova has a seating capacity of 7 people.\n"
     ]
    }
   ],
   "source": [
    "car = Car(\"Toyota Inova\", 150, 12)\n",
    "print(car.seating_capacity(7))"
   ]
  },
  {
   "cell_type": "markdown",
   "id": "4074af04",
   "metadata": {},
   "source": [
    "### Q3. What is multiple inheritance? Write a python code to demonstrate multiple inheritance."
   ]
  },
  {
   "cell_type": "markdown",
   "id": "d18a4e5c",
   "metadata": {},
   "source": [
    "Multiple inheritance is a feature of object-oriented programming where a class can inherit from multiple parent classes. This allows the child class to inherit attributes and methods from each parent class."
   ]
  },
  {
   "cell_type": "code",
   "execution_count": 5,
   "id": "f20bbc69",
   "metadata": {},
   "outputs": [
    {
     "name": "stdout",
     "output_type": "stream",
     "text": [
      "The animal speaks.\n",
      "The mammal feeds its young with milk.\n"
     ]
    }
   ],
   "source": [
    "class Animal:\n",
    "    def speak(self):\n",
    "        print(\"The animal speaks.\")\n",
    "\n",
    "class Mammal:\n",
    "    def feed_young_with_milk(self):\n",
    "        print(\"The mammal feeds its young with milk.\")\n",
    "\n",
    "class Cat(Animal, Mammal):\n",
    "    pass\n",
    "\n",
    "cat = Cat()\n",
    "cat.speak()\n",
    "cat.feed_young_with_milk()"
   ]
  },
  {
   "cell_type": "markdown",
   "id": "abe091d1",
   "metadata": {},
   "source": [
    "### Q4. What are getter and setter in python? Create a class and create a getter and a setter method in this class."
   ]
  },
  {
   "cell_type": "markdown",
   "id": "ed06a7ff",
   "metadata": {},
   "source": [
    "Getter and Setter are methods used to access and modify the value of an attribute in a class respectively. Getters are used to retrieve the value of an attribute while setters are used to modify or set the value of an attribute."
   ]
  },
  {
   "cell_type": "code",
   "execution_count": 6,
   "id": "eab1616e",
   "metadata": {},
   "outputs": [],
   "source": [
    "class Person:\n",
    "    def __init__(self, name, age):\n",
    "        self.name = name\n",
    "        self.age = age\n",
    "        \n",
    "    def get_name(self):\n",
    "        return self.name\n",
    "        \n",
    "    def get_age(self):\n",
    "        return self.age\n",
    "\n",
    "    def set_age(self, age):\n",
    "        if age < 0:\n",
    "            print(\"Error: Age can't be less than 0\")\n",
    "        self.age = age"
   ]
  },
  {
   "cell_type": "code",
   "execution_count": 7,
   "id": "199801f4",
   "metadata": {},
   "outputs": [
    {
     "name": "stdout",
     "output_type": "stream",
     "text": [
      "A\n",
      "30\n",
      "40\n",
      "Error: Age can't be less than 0\n"
     ]
    }
   ],
   "source": [
    "person = Person(\"A\", 30)\n",
    "print(person.get_name())\n",
    "print(person.get_age())\n",
    "person.set_age(40)\n",
    "print(person.get_age())\n",
    "person.set_age(-10)"
   ]
  },
  {
   "cell_type": "markdown",
   "id": "d9ec60b2",
   "metadata": {},
   "source": [
    "### Q5.What is method overriding in python? Write a python code to demonstrate method overriding."
   ]
  },
  {
   "cell_type": "markdown",
   "id": "62eec99a",
   "metadata": {},
   "source": [
    "Method overriding in Python is a concept where a subclass provides a different implementation of a method that is already defined in its parent class. When the subclass calls the overridden method, it will execute the subclass's implementation instead of the parent class's implementation."
   ]
  },
  {
   "cell_type": "code",
   "execution_count": 8,
   "id": "f0b7e2c9",
   "metadata": {},
   "outputs": [
    {
     "name": "stdout",
     "output_type": "stream",
     "text": [
      "The animal makes a sound.\n",
      "The dog barks.\n",
      "The cat meows.\n"
     ]
    }
   ],
   "source": [
    "class Animal:\n",
    "    def make_sound(self):\n",
    "        print(\"The animal makes a sound.\")\n",
    "\n",
    "class Dog(Animal):\n",
    "    def make_sound(self):\n",
    "        print(\"The dog barks.\")\n",
    "\n",
    "class Cat(Animal):\n",
    "    def make_sound(self):\n",
    "        print(\"The cat meows.\")\n",
    "\n",
    "animal = Animal()\n",
    "animal.make_sound()\n",
    "\n",
    "dog = Dog()\n",
    "dog.make_sound()\n",
    "\n",
    "cat = Cat()\n",
    "cat.make_sound()"
   ]
  }
 ],
 "metadata": {
  "kernelspec": {
   "display_name": "Python 3 (ipykernel)",
   "language": "python",
   "name": "python3"
  },
  "language_info": {
   "codemirror_mode": {
    "name": "ipython",
    "version": 3
   },
   "file_extension": ".py",
   "mimetype": "text/x-python",
   "name": "python",
   "nbconvert_exporter": "python",
   "pygments_lexer": "ipython3",
   "version": "3.9.13"
  }
 },
 "nbformat": 4,
 "nbformat_minor": 5
}
